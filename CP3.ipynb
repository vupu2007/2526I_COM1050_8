{
  "nbformat": 4,
  "nbformat_minor": 0,
  "metadata": {
    "colab": {
      "provenance": [],
      "authorship_tag": "ABX9TyN/CjHzVjnFgXqpP3eMCvMY",
      "include_colab_link": true
    },
    "kernelspec": {
      "name": "python3",
      "display_name": "Python 3"
    },
    "language_info": {
      "name": "python"
    }
  },
  "cells": [
    {
      "cell_type": "markdown",
      "metadata": {
        "id": "view-in-github",
        "colab_type": "text"
      },
      "source": [
        "<a href=\"https://colab.research.google.com/github/vupu2007/2526I_COM1050_8/blob/main/CP3.ipynb\" target=\"_parent\"><img src=\"https://colab.research.google.com/assets/colab-badge.svg\" alt=\"Open In Colab\"/></a>"
      ]
    },
    {
      "cell_type": "code",
      "execution_count": null,
      "metadata": {
        "colab": {
          "base_uri": "https://localhost:8080/"
        },
        "id": "0yGJf-OOFXlv",
        "outputId": "596d8e63-5a3c-4761-8256-3a253bcaab53"
      },
      "outputs": [
        {
          "output_type": "stream",
          "name": "stdout",
          "text": [
            "Nhập số nguyên n: 123\n",
            "Số đảo ngược: 321\n"
          ]
        }
      ],
      "source": [
        "n = input(\"Nhập số nguyên n: \")\n",
        "print(\"Số đảo ngược:\", n[::-1])"
      ]
    },
    {
      "cell_type": "code",
      "source": [
        "n = int(input(\"Nhập số nguyên n: \"))\n",
        "n_str = str(abs(n))\n",
        "dao_nguoc_str = n_str[::-1]\n",
        "dao_nguoc = int(dao_nguoc_str)\n",
        "if n < 0:\n",
        "    dao_nguoc = -dao_nguoc\n",
        "print(\"Số đảo ngược:\", dao_nguoc)"
      ],
      "metadata": {
        "colab": {
          "base_uri": "https://localhost:8080/"
        },
        "id": "ZIEURDxXNYTS",
        "outputId": "cc7f1afb-10f8-4827-ba77-7f513e50b930"
      },
      "execution_count": null,
      "outputs": [
        {
          "output_type": "stream",
          "name": "stdout",
          "text": [
            "Nhập số nguyên n: 12345\n",
            "Số đảo ngược: 54321\n"
          ]
        }
      ]
    },
    {
      "cell_type": "code",
      "source": [
        "n = int(input(\"Nhập số nguyên n: \"))\n",
        "if n > 0 and (n & (n - 1)) == 0:\n",
        "    print(\"Đây là lũy thừa của 2.\")\n",
        "else:\n",
        "    print(\"Không phải là lũy thừa của 2.\")"
      ],
      "metadata": {
        "colab": {
          "base_uri": "https://localhost:8080/"
        },
        "id": "RAJrKIkROW_M",
        "outputId": "6d5d044c-6c9d-4437-b7c3-a046159b7827"
      },
      "execution_count": null,
      "outputs": [
        {
          "output_type": "stream",
          "name": "stdout",
          "text": [
            "Nhập số nguyên n: 1\n",
            "Đây là lũy thừa của 2.\n"
          ]
        }
      ]
    },
    {
      "cell_type": "code",
      "source": [
        "m, n = map(int, input(\"Nhập m và n : \").split())\n",
        "kq = m // n\n",
        "print(\"Kết quả:\", kq)"
      ],
      "metadata": {
        "colab": {
          "base_uri": "https://localhost:8080/"
        },
        "id": "VOROI6doPTRA",
        "outputId": "08c65f77-c76e-4838-8313-4fe9f56138f2"
      },
      "execution_count": null,
      "outputs": [
        {
          "output_type": "stream",
          "name": "stdout",
          "text": [
            "Nhập m và n : 3 2\n",
            "Kết quả: 1\n"
          ]
        }
      ]
    },
    {
      "cell_type": "code",
      "source": [
        "import math\n",
        "m, n = map(int, input(\"Nhập lần lượt hai số : \").split())\n",
        "print(\"Kết quả thương hai số làm tròn lên :\",math.ceil(m / n))"
      ],
      "metadata": {
        "id": "BWZ4IMbjQQPJ",
        "colab": {
          "base_uri": "https://localhost:8080/"
        },
        "outputId": "8ff3296c-e393-4ab9-d408-2efaa4ebbee5"
      },
      "execution_count": null,
      "outputs": [
        {
          "output_type": "stream",
          "name": "stdout",
          "text": [
            "Nhập lần lượt hai số : 4 6\n",
            "Kết quả thương hai số làm tròn lên : 1\n"
          ]
        }
      ]
    },
    {
      "cell_type": "code",
      "source": [
        "n = int(input(\"Nhập số dương n : \"))\n",
        "if n % 2 == 0 :\n",
        " print(\"n là số chẵn\")\n",
        "else :\n",
        " print(\"n là số lẻ\")"
      ],
      "metadata": {
        "colab": {
          "base_uri": "https://localhost:8080/"
        },
        "id": "4VjTy9B6R4XL",
        "outputId": "67fbb84a-3880-424d-f649-f040ac226d74"
      },
      "execution_count": null,
      "outputs": [
        {
          "output_type": "stream",
          "name": "stdout",
          "text": [
            "Nhập số dương n : 1\n",
            "n là số lẻ\n"
          ]
        }
      ]
    },
    {
      "cell_type": "code",
      "source": [
        "a = int(input(\"Nhập số a : \"))\n",
        "b = int(input(\"Nhập số b : \"))\n",
        "if a < 0 and b < 0 :\n",
        "  print(\"Yes\")\n",
        "else :\n",
        "  print(\"No\")"
      ],
      "metadata": {
        "colab": {
          "base_uri": "https://localhost:8080/"
        },
        "id": "XbSUC_mFSUMZ",
        "outputId": "4820caa3-33b7-4ab4-dba7-e8aa43626efb"
      },
      "execution_count": null,
      "outputs": [
        {
          "output_type": "stream",
          "name": "stdout",
          "text": [
            "Nhập số a : -4\n",
            "Nhập số b : 5\n",
            "No\n"
          ]
        }
      ]
    },
    {
      "cell_type": "code",
      "source": [
        "a = input(\"Nhập chuỗi a : \")\n",
        "b = input(\"Nhập chuỗi b : \")\n",
        "print(len(a) > len(b))"
      ],
      "metadata": {
        "colab": {
          "base_uri": "https://localhost:8080/"
        },
        "id": "GLIOfpVjS68B",
        "outputId": "c86f08e6-2017-4936-b553-cd9eb1a91996"
      },
      "execution_count": null,
      "outputs": [
        {
          "output_type": "stream",
          "name": "stdout",
          "text": [
            "Nhập chuỗi a : sàđfdsfsdfsdf\n",
            "Nhập chuỗi b : sfsđáhfkhsjewhruewihfsew\n",
            "False\n"
          ]
        }
      ]
    },
    {
      "cell_type": "code",
      "source": [
        "a = int(input(\"Nhập số a : \"))\n",
        "b = int(input(\"Nhập số b : \"))\n",
        "c = int(input(\"Nhập số c : \"))\n",
        "if (a + b) > c and (a + c) > b and (b + c) > a :\n",
        "  print(\"Yes\")\n",
        "else :\n",
        "  print(\"No\")"
      ],
      "metadata": {
        "colab": {
          "base_uri": "https://localhost:8080/"
        },
        "id": "xxum4oZBSrs2",
        "outputId": "4be6e670-4a81-4999-e406-dc7383ea0237"
      },
      "execution_count": null,
      "outputs": [
        {
          "output_type": "stream",
          "name": "stdout",
          "text": [
            "Nhập số a : 16\n",
            "Nhập số b : 25\n",
            "Nhập số c : 9\n",
            "Các cạnh không tạo được một tam giác\n"
          ]
        }
      ]
    },
    {
      "cell_type": "code",
      "source": [
        "a, b, c, d = map(int, input(\"Nhập 4 số nguyên: \").split())\n",
        "print(\"Số lớn nhất là:\", max(a, b, c, d))"
      ],
      "metadata": {
        "colab": {
          "base_uri": "https://localhost:8080/"
        },
        "id": "XWasa5OsXnBy",
        "outputId": "58d042c6-3aef-4e29-fb00-df7ba92756f0"
      },
      "execution_count": null,
      "outputs": [
        {
          "output_type": "stream",
          "name": "stdout",
          "text": [
            "Nhập 4 số nguyên: 4 5 6 7\n",
            "Số lớn nhất là: 7\n"
          ]
        }
      ]
    },
    {
      "cell_type": "code",
      "source": [
        "a, b, c = map(int, input(\"Nhập 3 cạnh: \").split())\n",
        "if a + b > c and a + c > b and b + c > a :\n",
        "    if a == b == c:\n",
        "        print(\"Tam giác đều\")\n",
        "    elif a == b or b == c or a == c:\n",
        "        print(\"Tam giác cân\")\n",
        "    else:\n",
        "        print(\"Tam giác thường\")\n",
        "else:\n",
        "    print(\"Không phải tam giác\")"
      ],
      "metadata": {
        "colab": {
          "base_uri": "https://localhost:8080/"
        },
        "id": "f4nj8O8oZN3c",
        "outputId": "b681d6b0-e002-4338-99fb-0c192c7b414d"
      },
      "execution_count": null,
      "outputs": [
        {
          "output_type": "stream",
          "name": "stdout",
          "text": [
            "Nhập 3 cạnh: 6 325 3\n",
            "Không phải tam giác\n"
          ]
        }
      ]
    },
    {
      "cell_type": "code",
      "source": [
        "n = int(input(\"Nhập năm: \"))\n",
        "if (n % 4 == 0 and n % 100 != 0) or (n % 400 == 0):\n",
        "    print(\"Yes\")\n",
        "else:\n",
        "    print(\"No\")"
      ],
      "metadata": {
        "colab": {
          "base_uri": "https://localhost:8080/"
        },
        "id": "W8XDsJvjZdfY",
        "outputId": "4ace46c8-1844-46cd-db7f-f8a847cd547d"
      },
      "execution_count": null,
      "outputs": [
        {
          "output_type": "stream",
          "name": "stdout",
          "text": [
            "Nhập năm: 2024\n",
            "Yes\n"
          ]
        }
      ]
    },
    {
      "cell_type": "code",
      "source": [
        "kwh = int(input(\"Nhập số kWh tiêu thụ: \"))\n",
        "if kwh <= 50:\n",
        "    cost = kwh * 150\n",
        "elif kwh <= 100:\n",
        "    cost = 50 * 1500 + (kwh - 50) * 2000\n",
        "else:\n",
        "    cost = 50 * 1500 + 50 * 2000 + (kwh - 100) * 3000\n",
        "print(\"Tiền điện:\", cost)"
      ],
      "metadata": {
        "colab": {
          "base_uri": "https://localhost:8080/"
        },
        "id": "OKSxrwiXZW9M",
        "outputId": "0d50cfd4-b91a-43f3-b643-ca92a1a6b98f"
      },
      "execution_count": null,
      "outputs": [
        {
          "output_type": "stream",
          "name": "stdout",
          "text": [
            "Nhập số kWh tiêu thụ: 24\n",
            "Tiền điện: 3600\n"
          ]
        }
      ]
    },
    {
      "cell_type": "code",
      "source": [
        "a = float(input(\"Nhập a: \"))\n",
        "b = float(input(\"Nhập b: \"))\n",
        "if a == 0:\n",
        "    if b == 0:\n",
        "        print(\"Vô số nghiệm\")\n",
        "    else:\n",
        "        print(\"Vô nghiệm\")\n",
        "else:\n",
        "    x = -b / a\n",
        "    print(\"Nghiệm x =\", round(x, 2))"
      ],
      "metadata": {
        "id": "FlEsyqZ-afnb"
      },
      "execution_count": null,
      "outputs": []
    },
    {
      "cell_type": "code",
      "source": [
        "diem = float(input(\"Nhập điểm trung bình: \"))\n",
        "if diem >= 8.0:\n",
        "    print(\"Giỏi\")\n",
        "elif diem >= 6.5:\n",
        "    print(\"Khá\")\n",
        "elif diem >= 5.0:\n",
        "    print(\"Trung bình\")\n",
        "else:\n",
        "    print(\"Yếu\")"
      ],
      "metadata": {
        "id": "JuNxvOWNa9a5"
      },
      "execution_count": null,
      "outputs": []
    },
    {
      "cell_type": "code",
      "source": [
        "x = float(input(\"Nhập số thực: \"))\n",
        "nguyen = int(x)\n",
        "floor = nguyen\n",
        "ceil = nguyen if x == nguyen else nguyen + 1\n",
        "nearest = nguyen + (1 if x - nguyen >= 0.5 else 0)\n",
        "print(ceil, floor, nearest)"
      ],
      "metadata": {
        "colab": {
          "base_uri": "https://localhost:8080/"
        },
        "id": "RvwG4TcubZIY",
        "outputId": "835d223b-a6bf-4d7d-9416-a939c59c37cd"
      },
      "execution_count": null,
      "outputs": [
        {
          "output_type": "stream",
          "name": "stdout",
          "text": [
            "Nhập số thực: 3.52\n",
            "4 3 4\n"
          ]
        }
      ]
    }
  ]
}