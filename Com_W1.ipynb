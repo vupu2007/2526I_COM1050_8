{
  "nbformat": 4,
  "nbformat_minor": 0,
  "metadata": {
    "colab": {
      "provenance": [],
      "authorship_tag": "ABX9TyOeMA+9Xsuy0PyLYE5i1deo",
      "include_colab_link": true
    },
    "kernelspec": {
      "name": "python3",
      "display_name": "Python 3"
    },
    "language_info": {
      "name": "python"
    }
  },
  "cells": [
    {
      "cell_type": "markdown",
      "metadata": {
        "id": "view-in-github",
        "colab_type": "text"
      },
      "source": [
        "<a href=\"https://colab.research.google.com/github/vupu2007/2526I_COM1050_8/blob/main/Com_W1.ipynb\" target=\"_parent\"><img src=\"https://colab.research.google.com/assets/colab-badge.svg\" alt=\"Open In Colab\"/></a>"
      ]
    },
    {
      "cell_type": "code",
      "execution_count": null,
      "metadata": {
        "id": "S7N2hZFBmiN7"
      },
      "outputs": [],
      "source": [
        "#W2A1\n",
        "print(\" Hello World \")"
      ]
    },
    {
      "cell_type": "code",
      "source": [
        "#W2A2\n",
        "name = input(\"Hãy nhập tên của bạn :\")\n",
        "print(\" Hello\" ,name, \"chúc bạn ngày mới tốt lành \")"
      ],
      "metadata": {
        "id": "Ufpyc6Oqmobb"
      },
      "execution_count": null,
      "outputs": []
    },
    {
      "cell_type": "code",
      "source": [
        "#W2A10\n",
        "# Nhập tên từ bàn phím\n",
        "names = input(\"Nhập tên 3 người, cách nhau bởi khoảng trắng: \").split()\n",
        "\n",
        "# Đảo ngược danh sách\n",
        "names.reverse()\n",
        "# In kết quả\n",
        "print(f\"Hi {names[0]}, {names[1]} and {names[2]}.\")"
      ],
      "metadata": {
        "colab": {
          "base_uri": "https://localhost:8080/"
        },
        "id": "8LTgrmAXn7rg",
        "outputId": "0d78ce82-7b42-41b7-d27b-5f550276e1a9"
      },
      "execution_count": null,
      "outputs": [
        {
          "output_type": "stream",
          "name": "stdout",
          "text": [
            "Nhập tên 3 người, cách nhau bởi khoảng trắng: A B C\n",
            "Hi C, B and A.\n"
          ]
        }
      ]
    },
    {
      "cell_type": "code",
      "source": [
        "#W2A16\n",
        "print(\"spring\")\n",
        "print(\"summer\")\n",
        "print(\"Autumn\")\n",
        "print(\"winter\")\n",
        "\n",
        "print(\"spring \",end=\"\")\n",
        "print(\"summer \",end=\"\")\n",
        "print(\"Autumn \",end=\"\")\n",
        "print(\"winter\")\n",
        "\n",
        "print(\"Spring\\nSummer\\nAutumn\\nWinter\")"
      ],
      "metadata": {
        "colab": {
          "base_uri": "https://localhost:8080/"
        },
        "id": "am08jQ7Uoo6w",
        "outputId": "e0eabbcb-45d4-4c7e-8086-91cc76a08ed1"
      },
      "execution_count": null,
      "outputs": [
        {
          "output_type": "stream",
          "name": "stdout",
          "text": [
            "spring\n",
            "summer\n",
            "Autumn\n",
            "winter\n",
            "spring summer Autumn winter\n",
            "Spring\n",
            "Summer\n",
            "Autumn\n",
            "Winter\n"
          ]
        }
      ]
    },
    {
      "cell_type": "code",
      "source": [
        "#W2A17\n",
        "print(\"*\\n**\\n***\")\n",
        "\n",
        "for i in range(4):\n",
        "     print(\"*\" * i)"
      ],
      "metadata": {
        "colab": {
          "base_uri": "https://localhost:8080/"
        },
        "id": "3pCLkNWlqUdC",
        "outputId": "99ffdc11-a183-4e55-8ecd-8f2cf2148b21"
      },
      "execution_count": null,
      "outputs": [
        {
          "output_type": "stream",
          "name": "stdout",
          "text": [
            "*\n",
            "**\n",
            "***\n",
            "\n",
            "*\n",
            "**\n",
            "***\n"
          ]
        }
      ]
    },
    {
      "cell_type": "code",
      "source": [
        "#W2A18\n",
        "print(\"### # #   ### ###\")\n",
        "print(\" #  #   #  #   #\")\n",
        "print(\" #  #    # #   #\")\n",
        "print(\" #  #   #  #   #\")\n",
        "print(\" #  # #    #   #\")"
      ],
      "metadata": {
        "colab": {
          "base_uri": "https://localhost:8080/"
        },
        "id": "mXwKSC56sGw3",
        "outputId": "9f49d7c8-bc78-4778-d5d3-5b8dc9fac3e0"
      },
      "execution_count": null,
      "outputs": [
        {
          "output_type": "stream",
          "name": "stdout",
          "text": [
            "### # #   ### ###\n",
            " #  #   #  #   #\n",
            " #  #    # #   #\n",
            " #  #   #  #   #\n",
            " #  # #    #   #\n"
          ]
        }
      ]
    },
    {
      "cell_type": "code",
      "source": [
        "#W2A19\n",
        "print(\"Monday\\nTuesday\\nWednesday\\nThursday\\nFriday\\nSaturday\\nSunday\")"
      ],
      "metadata": {
        "colab": {
          "base_uri": "https://localhost:8080/"
        },
        "id": "X3Z1n9EytRmW",
        "outputId": "4ba7aaa3-6db6-4235-bcf3-b4e5b9b98eb9"
      },
      "execution_count": null,
      "outputs": [
        {
          "output_type": "stream",
          "name": "stdout",
          "text": [
            "Monday\n",
            "Tuesday\n",
            "Wednesday\n",
            "Thursday\n",
            "Friday\n",
            "Saturday\n",
            "Sunday\n"
          ]
        }
      ]
    },
    {
      "cell_type": "code",
      "source": [
        "#W2A20\n",
        "days = [\"Monday\", \"Tuesday\", \"Wednesday\", \"Thursday\", \"Friday\", \"Saturday\", \"Sunday\"]\n",
        "for day in days:\n",
        "    print(day)"
      ],
      "metadata": {
        "colab": {
          "base_uri": "https://localhost:8080/"
        },
        "id": "JkMV7K1B18pf",
        "outputId": "3b220415-be0f-48e1-afe9-a89e6531626f"
      },
      "execution_count": null,
      "outputs": [
        {
          "output_type": "stream",
          "name": "stdout",
          "text": [
            "Monday\n",
            "Tuesday\n",
            "Wednesday\n",
            "Thursday\n",
            "Friday\n",
            "Saturday\n",
            "Sunday\n"
          ]
        }
      ]
    },
    {
      "cell_type": "code",
      "source": [
        "#WA21\n",
        "for i in range(10):\n",
        "  print(\" Hello World\" )"
      ],
      "metadata": {
        "colab": {
          "base_uri": "https://localhost:8080/"
        },
        "id": "oDqw95KMt7oi",
        "outputId": "08d2c36d-47bd-44a2-f13a-e0ae1573639c"
      },
      "execution_count": null,
      "outputs": [
        {
          "output_type": "stream",
          "name": "stdout",
          "text": [
            " Hello World\n",
            " Hello World\n",
            " Hello World\n",
            " Hello World\n",
            " Hello World\n",
            " Hello World\n",
            " Hello World\n",
            " Hello World\n",
            " Hello World\n",
            " Hello World\n"
          ]
        }
      ]
    }
  ]
}