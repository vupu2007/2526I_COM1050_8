{
  "nbformat": 4,
  "nbformat_minor": 0,
  "metadata": {
    "colab": {
      "provenance": [],
      "authorship_tag": "ABX9TyP90Zu6cZJWtkr+JZJuc/w/",
      "include_colab_link": true
    },
    "kernelspec": {
      "name": "python3",
      "display_name": "Python 3"
    },
    "language_info": {
      "name": "python"
    }
  },
  "cells": [
    {
      "cell_type": "markdown",
      "metadata": {
        "id": "view-in-github",
        "colab_type": "text"
      },
      "source": [
        "<a href=\"https://colab.research.google.com/github/vupu2007/2526I_COM1050_8/blob/main/Com_W4.ipynb\" target=\"_parent\"><img src=\"https://colab.research.google.com/assets/colab-badge.svg\" alt=\"Open In Colab\"/></a>"
      ]
    },
    {
      "cell_type": "code",
      "execution_count": null,
      "metadata": {
        "colab": {
          "base_uri": "https://localhost:8080/"
        },
        "id": "QwKVre8N9svW",
        "outputId": "dbc4555e-52d8-433d-c784-95fa3d494074"
      },
      "outputs": [
        {
          "output_type": "stream",
          "name": "stdout",
          "text": [
            "Nhập số nguyên n < 1000  : 4\n",
            "Tổng cần tìm là :  10\n"
          ]
        }
      ],
      "source": [
        "#W4A1\n",
        "n = int(input(\"Nhập số nguyên n < 1000  : \"))\n",
        "tong = 0\n",
        "for i in range(1,n+1):\n",
        "  tong += i\n",
        "print(\"Tổng cần tìm là : \", tong)"
      ]
    },
    {
      "cell_type": "code",
      "source": [
        "#W4A2\n",
        "n = 0\n",
        "while n <= 0:\n",
        "    n = int(input(\"Nhập một số nguyên dương: \"))\n",
        "if n < 2:\n",
        "    print(n, \"không phải là số nguyên tố\")\n",
        "else:\n",
        "    la_so_nguyen_to = True\n",
        "    for i in range(2, n):\n",
        "        if n % i == 0:\n",
        "            la_so_nguyen_to = False\n",
        "            break\n",
        "    if la_so_nguyen_to:\n",
        "        print(n, \"là số nguyên tố\")\n",
        "    else:\n",
        "        print(n, \"không phải là số nguyên tố\")"
      ],
      "metadata": {
        "colab": {
          "base_uri": "https://localhost:8080/"
        },
        "id": "75uowcs9-jzS",
        "outputId": "ecb5c6d2-615e-4875-e22f-f7f13dcfb75a"
      },
      "execution_count": null,
      "outputs": [
        {
          "output_type": "stream",
          "name": "stdout",
          "text": [
            "Nhập một số nguyên dương: 4\n",
            "4 không phải là số nguyên tố\n"
          ]
        }
      ]
    },
    {
      "cell_type": "code",
      "source": [
        "#W4A3\n",
        "n = int(input(\"Nhập n : \"))\n",
        "gt = 1\n",
        "i = 1\n",
        "while i <= n:\n",
        "    gt = gt * i\n",
        "    i += 1\n",
        "print(\"Giai thừa là:\", gt)"
      ],
      "metadata": {
        "colab": {
          "base_uri": "https://localhost:8080/"
        },
        "id": "LAatgpHMDcYO",
        "outputId": "21064126-8bbc-46fa-b25c-03df6da313f5"
      },
      "execution_count": null,
      "outputs": [
        {
          "output_type": "stream",
          "name": "stdout",
          "text": [
            "Nhập n : 2\n",
            "Giai thừa là: 2\n"
          ]
        }
      ]
    },
    {
      "cell_type": "code",
      "source": [
        "#W4A4\n",
        "n = int(input(\"Nhập số n : \"))\n",
        "n = abs(n)\n",
        "c = 1\n",
        "while n >= 10:\n",
        "    n //= 10\n",
        "    c += 1\n",
        "print(\"Só ký tự là : \",c)"
      ],
      "metadata": {
        "id": "bMvqU28LGx26"
      },
      "execution_count": null,
      "outputs": []
    },
    {
      "cell_type": "code",
      "source": [
        "#W4A5\n",
        "danh_sach_so = list(map(int, input(\"Nhập dãy số (cách nhau bởi dấu cách): \").split()))\n",
        "if 42 in danh_sach_so:\n",
        "    print(\"I've found the meaning of life!\")\n",
        "else:\n",
        "    print(\"It's a joke!\")"
      ],
      "metadata": {
        "id": "n3NH853FNMk4"
      },
      "execution_count": null,
      "outputs": []
    },
    {
      "cell_type": "code",
      "source": [
        "#W4A6\n",
        "def la_so_nguyen_to(n):\n",
        "    if n < 2:\n",
        "        return False\n",
        "    for i in range(2, n):\n",
        "        if n % i == 0:\n",
        "            return False\n",
        "    return True\n",
        "a = int(input(\"Nhập số nguyên dương a (a < b) : \"))\n",
        "b = int(input(\"Nhập số nguyên dương b (b > a) : \"))\n",
        "tong = 0\n",
        "for i in range(a,b+1):\n",
        " if la_so_nguyen_to(i):\n",
        "  tong += i\n",
        "print(tong)"
      ],
      "metadata": {
        "id": "QBkQAE8taCUw"
      },
      "execution_count": null,
      "outputs": []
    },
    {
      "cell_type": "code",
      "source": [
        "#W4A7\n",
        "def la_so_nguyen_to(a):\n",
        "    if a < 2:\n",
        "        return False\n",
        "    for i in range(2,a):\n",
        "        if a % i == 0:\n",
        "            return False\n",
        "    return True\n",
        "n = int(input(\"Nhập số nguyên dương n (lớn hơn hoặc bằng 2): \"))\n",
        "b = 1\n",
        "for i in range(2, n+1):\n",
        "    if n % i == 0 and la_so_nguyen_to(i):\n",
        "        b = i\n",
        "print(f\"Ước số nguyên tố lớn nhất của {n} là: {b}\")"
      ],
      "metadata": {
        "id": "6woz12F4cWi1"
      },
      "execution_count": null,
      "outputs": []
    },
    {
      "cell_type": "code",
      "source": [
        "#W4A8\n",
        "def reverse_number(n):\n",
        "    return int(str(n)[::-1])\n",
        "\n",
        "def is_palindrome(n):\n",
        "    s = str(n)\n",
        "    return s == s[::-1]\n",
        "\n",
        "def reverse_add_palindrome(n):\n",
        "    steps = 0\n",
        "    while not is_palindrome(n):\n",
        "        n = n + reverse_number(n)\n",
        "        steps += 1\n",
        "    return steps, n\n",
        "n = int(input(\"Nhập số nguyên dương n: \"))\n",
        "steps, palindrome = reverse_add_palindrome(n)\n",
        "print(f\"Số bước: {steps}\")\n",
        "print(f\"Giá trị palindrome: {palindrome}\")"
      ],
      "metadata": {
        "id": "vOd0LCSBlFMx"
      },
      "execution_count": null,
      "outputs": []
    },
    {
      "cell_type": "code",
      "source": [
        "#W4A9\n",
        "def so_chinh_phuong(n):\n",
        "    for i in range(1, int(n**0.5) + 1):\n",
        "        if i**2 == n:\n",
        "            return True\n",
        "    return False\n",
        "\n",
        "n = int(input(\"Nhập số n: \"))\n",
        "co = False\n",
        "\n",
        "for i in range(1, n + 1):\n",
        "    if so_chinh_phuong(i):\n",
        "        print( i,end=\" \")\n",
        "        co = True\n",
        "\n",
        "if not co:\n",
        "    print(\"Không có số chính phương nào trong khoảng này.\")"
      ],
      "metadata": {
        "id": "NME7sMOoF_OC"
      },
      "execution_count": null,
      "outputs": []
    },
    {
      "cell_type": "code",
      "source": [
        "#W4A10\n",
        "n = int(input(\"Nhập n: \"))\n",
        "max_len = 0\n",
        "best_x = 1\n",
        "for i in range(1, n + 1):\n",
        "    x = i\n",
        "    count = 1\n",
        "    while x != 1:\n",
        "        if x % 2 == 0:\n",
        "            x = x // 2\n",
        "        else:\n",
        "            x = 3 * x + 1\n",
        "        count += 1\n",
        "\n",
        "    if count > max_len or (count == max_len and i < best_x):\n",
        "        max_len = count\n",
        "        best_x = i\n",
        "print(best_x, max_len)"
      ],
      "metadata": {
        "id": "hky9HK0kIjHW"
      },
      "execution_count": null,
      "outputs": []
    },
    {
      "cell_type": "code",
      "source": [
        "#W4A11\n",
        "n = int(input(\"Nhập số nguyên dương n : \"))\n",
        "if n < 10**6 :\n",
        "  b = 0\n",
        "  for i in range(1,n+1):\n",
        "   if n % i == 0 and i % 2 ==0 :\n",
        "    b += 1\n",
        "  print(f\"Số lượng ước chẵn của {n} là : {int(b)}\")\n",
        "else :\n",
        "  print(\"Số n không hợp lệ\")"
      ],
      "metadata": {
        "id": "fAAlOg7NLmQB"
      },
      "execution_count": null,
      "outputs": []
    },
    {
      "cell_type": "code",
      "source": [
        "#W4A12\n",
        "x = int(input(\"Nhập số tiền gửi ngân hàng : \"))\n",
        "n = int(input(\"Nhập số tháng : \"))\n",
        "A = x*(1.007**n)\n",
        "b = int(A)\n",
        "print(f\"Số tiền nhận được khi gửi {x} đồng sau {n} tháng là : {b} đồng\")"
      ],
      "metadata": {
        "id": "HMlVMhbnQvqM"
      },
      "execution_count": null,
      "outputs": []
    },
    {
      "cell_type": "code",
      "source": [
        "#W4A13\n",
        "def tong_uoc(n):\n",
        "    tong = 0\n",
        "    for i in range(1, n // 2 + 1):\n",
        "        if n % i == 0:\n",
        "            tong += i\n",
        "    return tong\n",
        "\n",
        "a = int(input(\"Nhập số thứ nhất: \"))\n",
        "b = int(input(\"Nhập số thứ hai: \"))\n",
        "\n",
        "if tong_uoc(a) == b and tong_uoc(b) == a:\n",
        "    print(\"True\")\n",
        "else:\n",
        "    print(\"False\")\n"
      ],
      "metadata": {
        "id": "WLvq3kwETYu6"
      },
      "execution_count": null,
      "outputs": []
    },
    {
      "cell_type": "code",
      "source": [
        "#W4A14\n",
        "m = int(input(\"Nhập số m: \"))\n",
        "n = int(input(\"Nhập số n: \"))\n",
        "ucln = 1\n",
        "for i in range(1, min(m, n) + 1):\n",
        "    if m % i == 0 and n % i == 0:\n",
        "        ucln = i\n",
        "print(\"Ước chung lớn nhất là:\", ucln)"
      ],
      "metadata": {
        "id": "DRdbb7frYK44"
      },
      "execution_count": null,
      "outputs": []
    },
    {
      "cell_type": "code",
      "source": [
        "#W4A15\n",
        "con = int(input(\"Nhập tổng số con : \"))\n",
        "chan = int(input(\"Nhập tổng số chân : \"))\n",
        "cho = (chan/4 - con/2)*2\n",
        "ga = con - cho\n",
        "if cho == int(cho) and ga == int(ga):\n",
        "  print(\"Số gà là : \",str(int(ga)))\n",
        "  print(\"Số chó là : \",str(int(cho)))\n",
        "else :\n",
        "  print(\"Invalid\")"
      ],
      "metadata": {
        "id": "Sd9XTLi2O8C3"
      },
      "execution_count": null,
      "outputs": []
    },
    {
      "cell_type": "code",
      "source": [
        "#W4A16\n",
        "def so(n):\n",
        "  if n % 2 == 0 and n % 3 == 0 :\n",
        "    return True\n",
        "  return False\n",
        "for i in range(1,100):\n",
        "  if so(i):\n",
        "    print(i,end=\" \")\n"
      ],
      "metadata": {
        "id": "3LHAMB4NUSNd"
      },
      "execution_count": null,
      "outputs": []
    },
    {
      "cell_type": "code",
      "source": [
        "#W4A17\n",
        "a = int(input(\"Nhập số dương a : \"))\n",
        "b = int(input(\"Nhập số dương b : \"))\n",
        "for i in range(1,( a + b )// 2 + 1):\n",
        "  if a % i == 0 and b % i == 0 :\n",
        "    print(i,end= \" \")\n"
      ],
      "metadata": {
        "id": "PQpVBHBFVkiF"
      },
      "execution_count": null,
      "outputs": []
    },
    {
      "cell_type": "code",
      "source": [
        "#4A18\n",
        "a = int(input(\"Nhập số dương a : \"))\n",
        "for i in range(1,11):\n",
        "  print(a*i, end = \" \")\n"
      ],
      "metadata": {
        "id": "jqpjpzuOYbCC"
      },
      "execution_count": null,
      "outputs": []
    },
    {
      "cell_type": "code",
      "source": [
        "#W4A19\n",
        "def so_chan(n):\n",
        "  if n % 2 == 0 :\n",
        "    return True\n",
        "  return False\n",
        "n = int(input(\"Nhập số dương n nhỏ hơn hoặc bằng 1000 : \"))\n",
        "for i in range(1,n + 1):\n",
        "  if so_chan(i):\n",
        "    print(i,end= \" \")"
      ],
      "metadata": {
        "id": "2--_xM3yaJFI"
      },
      "execution_count": null,
      "outputs": []
    },
    {
      "cell_type": "code",
      "source": [
        "#W4A20\n",
        "n = int(input(\"Nhập số nguyên n: \"))\n",
        "i = 1\n",
        "while i < n:\n",
        "    i *= 2\n",
        "if i == n:\n",
        "    print(\"True\")\n",
        "else:\n",
        "    print(\"False\")"
      ],
      "metadata": {
        "id": "5HZ3JnNubhAX"
      },
      "execution_count": null,
      "outputs": []
    },
    {
      "cell_type": "code",
      "source": [
        "#W4A21\n",
        "n = input(\"Nhập số nguyên dương n: \")\n",
        "tong = sum(int(x) for x in n)\n",
        "print(\"Tổng các chữ số là:\", tong)"
      ],
      "metadata": {
        "id": "Qcc-Gs7mgvih"
      },
      "execution_count": null,
      "outputs": []
    },
    {
      "cell_type": "code",
      "source": [
        "#W4A22\n",
        "n = int(input(\"Nhập số nguyên dương n: \"))\n",
        "chan = 0\n",
        "le = 0\n",
        "while n > 0:\n",
        "    chu_so = n % 10\n",
        "    if chu_so % 2 == 0:\n",
        "        chan += 1\n",
        "    else:\n",
        "        le += 1\n",
        "    n //= 10\n",
        "print(\"Số chữ số chẵn:\", chan)\n",
        "print(\"Số chữ số lẻ:\", le)"
      ],
      "metadata": {
        "colab": {
          "base_uri": "https://localhost:8080/"
        },
        "id": "NqQpY2nfiKTB",
        "outputId": "d6060995-5b11-4a39-d7eb-33277d84a8d5"
      },
      "execution_count": null,
      "outputs": [
        {
          "output_type": "stream",
          "name": "stdout",
          "text": [
            "Nhập số nguyên dương n: 34858\n",
            "Số chữ số chẵn: 3\n",
            "Số chữ số lẻ: 2\n"
          ]
        }
      ]
    },
    {
      "cell_type": "code",
      "source": [
        "#W4A23\n",
        "n = int(input(\"Nhập n: \"))\n",
        "S = 0\n",
        "k = 0\n",
        "while S + (k + 1) < n:\n",
        "    k += 1\n",
        "    S += k\n",
        "print(\"k =\", k)\n",
        "print(\"S(k) =\", S)"
      ],
      "metadata": {
        "colab": {
          "base_uri": "https://localhost:8080/"
        },
        "id": "0rv6J-ahkn2G",
        "outputId": "7ac75411-84ce-461e-acd9-a7165c91c7ab"
      },
      "execution_count": null,
      "outputs": [
        {
          "output_type": "stream",
          "name": "stdout",
          "text": [
            "Nhập n: 4\n",
            "k = 2\n",
            "S(k) = 3\n"
          ]
        }
      ]
    },
    {
      "cell_type": "code",
      "source": [
        "#W4A24\n",
        "A = float(input(\"Nhập A: \"))\n",
        "S = 0\n",
        "n = 0\n",
        "while S <= A:\n",
        "    n += 1\n",
        "    S += 1/n\n",
        "print(\"n nhỏ nhất là:\", n)"
      ],
      "metadata": {
        "colab": {
          "base_uri": "https://localhost:8080/"
        },
        "id": "ICTlV1j5mrY-",
        "outputId": "3c88c2b3-075b-4dec-c2ad-cb171776c3e2"
      },
      "execution_count": null,
      "outputs": [
        {
          "output_type": "stream",
          "name": "stdout",
          "text": [
            "Nhập A: 9\n",
            "n nhỏ nhất là: 4550\n"
          ]
        }
      ]
    },
    {
      "cell_type": "code",
      "source": [
        "#W4A25\n",
        "n = int(input(\"Nhập số (nhập -1 để dừng): \"))\n",
        "maxn = minn = n\n",
        "while n != -1:\n",
        "    n = int(input(\"Nhập số (nhập -1 để dừng): \"))\n",
        "    if n == -1:\n",
        "        break\n",
        "    if n > maxn:\n",
        "        maxn = n\n",
        "    if n < minn:\n",
        "        minn = n\n",
        "print(\"Số lớn nhất:\", maxn)\n",
        "print(\"Số nhỏ nhất:\", minn)"
      ],
      "metadata": {
        "colab": {
          "base_uri": "https://localhost:8080/"
        },
        "id": "x_t0oX1r6H0q",
        "outputId": "212b9cd9-cb21-4f90-a0f4-a1750cc41378"
      },
      "execution_count": null,
      "outputs": [
        {
          "output_type": "stream",
          "name": "stdout",
          "text": [
            "Nhập số (nhập -1 để dừng): 4\n",
            "Nhập số (nhập -1 để dừng): 4\n",
            "Nhập số (nhập -1 để dừng): 2\n",
            "Nhập số (nhập -1 để dừng): -1\n",
            "Số lớn nhất: 4\n",
            "Số nhỏ nhất: 2\n"
          ]
        }
      ]
    },
    {
      "cell_type": "code",
      "source": [
        "#W4A26\n",
        "A = int(input(\"Nhập số nguyên dương A : \"))\n",
        "s = 1\n",
        "n = 1\n",
        "while n + (s + n) <= A :\n",
        "  s = s + n\n",
        "  n = n + s\n",
        "print(\"Số lớn nhất dãy fibonacci là : \",n)"
      ],
      "metadata": {
        "colab": {
          "base_uri": "https://localhost:8080/"
        },
        "id": "aN34Agfj7uDh",
        "outputId": "875d6936-5058-4b35-99b9-936a37ac38cd"
      },
      "execution_count": null,
      "outputs": [
        {
          "output_type": "stream",
          "name": "stdout",
          "text": [
            "Nhập số nguyên dương A : 21\n",
            "Số lớn nhất dãy fibonacci là :  21\n"
          ]
        }
      ]
    },
    {
      "cell_type": "code",
      "source": [
        "#W4A27\n",
        "s = input(\"Nhập chuỗi: \")\n",
        "count = 0\n",
        "in_word = False\n",
        "for c in s:\n",
        "    if c != ' ' and not in_word:\n",
        "        count += 1\n",
        "        in_word = True\n",
        "    elif c == ' ':\n",
        "        in_word = False\n",
        "print(\"Số từ là:\", count)"
      ],
      "metadata": {
        "colab": {
          "base_uri": "https://localhost:8080/"
        },
        "id": "BF55VhzJFNpc",
        "outputId": "bb47a507-5fde-49a7-88c2-671b2636c703"
      },
      "execution_count": null,
      "outputs": [
        {
          "output_type": "stream",
          "name": "stdout",
          "text": [
            "Nhập chuỗi: sf sde  d s f\n",
            "Số từ là: 5\n"
          ]
        }
      ]
    },
    {
      "cell_type": "code",
      "source": [
        "#W4A28\n",
        "s = input(\"Nhập chuỗi: \")\n",
        "first_word = \"\"\n",
        "for i in range(len(s)):\n",
        "    if s[i] != \" \":\n",
        "        first_word += s[i]\n",
        "    else:\n",
        "        break\n",
        "print(\"Từ đầu tiên là:\", first_word)"
      ],
      "metadata": {
        "id": "6K0rt3DSKK7Z",
        "colab": {
          "base_uri": "https://localhost:8080/"
        },
        "outputId": "31164f7a-5cf9-4c66-a5d2-0dd6efeee583"
      },
      "execution_count": 1,
      "outputs": [
        {
          "output_type": "stream",
          "name": "stdout",
          "text": [
            "Nhập chuỗi: Phải chịu\n",
            "Từ đầu tiên là: Phải\n"
          ]
        }
      ]
    },
    {
      "cell_type": "code",
      "source": [
        "#W4A29\n",
        "s = input(\"Nhập 3 số nguyên, cách nhau bằng dấu phẩy: \")\n",
        "tong = 0\n",
        "so = \"\"\n",
        "for i in range(len(s)):\n",
        "    if s[i] != ',' and s[i] != ' ':\n",
        "        so = so + s[i]\n",
        "    else:\n",
        "        tong = tong + int(so)\n",
        "        so = \"\"\n",
        "tong = tong + int(so)\n",
        "print(\"Tổng:\", tong)"
      ],
      "metadata": {
        "colab": {
          "base_uri": "https://localhost:8080/"
        },
        "id": "37YjhbVtobHE",
        "outputId": "77dc750f-a6a4-44b7-c410-ba0c14f27e7d"
      },
      "execution_count": 6,
      "outputs": [
        {
          "output_type": "stream",
          "name": "stdout",
          "text": [
            "Nhập 3 số nguyên, cách nhau bằng dấu phẩy: 3,5,5\n",
            "Tổng: 13\n"
          ]
        }
      ]
    },
    {
      "cell_type": "code",
      "source": [
        "#W4A30\n",
        "s = input(\"Nhập chuỗi : \")\n",
        "hoa = 0\n",
        "thuong = 0\n",
        "so = 0\n",
        "for i in range(len(s)):\n",
        "    if s[i] >= 'A' and s[i] <= 'Z':\n",
        "        hoa = hoa + 1\n",
        "    elif s[i] >= 'a' and s[i] <= 'z':\n",
        "        thuong = thuong + 1\n",
        "    elif s[i] >= '0' and s[i] <= '9':\n",
        "        so = so + 1\n",
        "print(\"Số ký tự in hoa:\", hoa)\n",
        "print(\"Số ký tự in thường:\", thuong)\n",
        "print(\"Số ký tự là số:\", so)"
      ],
      "metadata": {
        "colab": {
          "base_uri": "https://localhost:8080/"
        },
        "id": "RGtmn7lrp3fZ",
        "outputId": "47723fa2-0307-4d8f-fd69-46018c3bf051"
      },
      "execution_count": 8,
      "outputs": [
        {
          "output_type": "stream",
          "name": "stdout",
          "text": [
            "Nhập chuỗi : Một con bò 4 đuôi 2 chân\n",
            "Số ký tự in hoa: 1\n",
            "Số ký tự in thường: 10\n",
            "Số ký tự là số: 2\n"
          ]
        }
      ]
    },
    {
      "cell_type": "code",
      "source": [
        "#W4A31\n",
        "s = input(\"Nhập chuỗi : \")\n",
        "tong = 0\n",
        "for i in range(len(s)):\n",
        "  if s[i] >= \"0\" and s[i] <= \"9\" :\n",
        "    tong = int(s[i]) + tong\n",
        "  else:\n",
        "    tong = 0\n",
        "print(\"Tổng các số nguyên trong chuỗi là : \",tong)"
      ],
      "metadata": {
        "colab": {
          "base_uri": "https://localhost:8080/"
        },
        "id": "StIdpokjrfXE",
        "outputId": "9da0374f-3927-44d7-a71a-f36c0216783b"
      },
      "execution_count": 14,
      "outputs": [
        {
          "output_type": "stream",
          "name": "stdout",
          "text": [
            "Nhập chuỗi : euwrue\n",
            "Tổng các số nguyên trong chuỗi là :  0\n"
          ]
        }
      ]
    },
    {
      "cell_type": "code",
      "source": [
        "#W4A32\n",
        "pw = input(\"Nhập mật khẩu: \")\n",
        "hoa = False\n",
        "thuong = False\n",
        "so = False\n",
        "dacbiet = False\n",
        "for c in pw:\n",
        "    if c >= 'A' and c <= 'Z':\n",
        "        hoa = True\n",
        "    elif c >= 'a' and c <= 'z':\n",
        "        thuong = True\n",
        "    elif c >= '0' and c <= '9':\n",
        "        so = True\n",
        "    else:\n",
        "        dacbiet = True\n",
        "if len(pw) > 6 and hoa and thuong and so and dacbiet:\n",
        "    print(\"Mật khẩu mạnh \")\n",
        "else:\n",
        "    print(\"Mật khẩu yếu \")"
      ],
      "metadata": {
        "colab": {
          "base_uri": "https://localhost:8080/"
        },
        "id": "u7TUKj8L0Yvk",
        "outputId": "25f50a79-1cc5-41c8-e1d0-f8e9b35d499a"
      },
      "execution_count": 15,
      "outputs": [
        {
          "output_type": "stream",
          "name": "stdout",
          "text": [
            "Nhập mật khẩu: Sdkfh34@\n",
            "Mật khẩu mạnh \n"
          ]
        }
      ]
    },
    {
      "cell_type": "code",
      "source": [
        "#W4A33\n",
        "n = int(input(\"Nhập số nguyên: \"))\n",
        "s = str(n)\n",
        "s = s[::-1]\n",
        "kq = \"\"\n",
        "for i in range(len(s)):\n",
        "    kq += s[i]\n",
        "    if (i + 1) % 3 == 0 and i + 1 != len(s):\n",
        "        kq += \".\"\n",
        "kq = kq[::-1]\n",
        "print(\"Kết quả:\", kq)\n"
      ],
      "metadata": {
        "colab": {
          "base_uri": "https://localhost:8080/"
        },
        "id": "bp05IfJc3M5p",
        "outputId": "65576c5e-8cec-4e19-c918-a4d149d00e8e"
      },
      "execution_count": 22,
      "outputs": [
        {
          "output_type": "stream",
          "name": "stdout",
          "text": [
            "Nhập số nguyên: 3473284732946\n",
            "Kết quả: 3.473.284.732.946\n"
          ]
        }
      ]
    },
    {
      "cell_type": "code",
      "source": [
        "#W4A34\n",
        "a = input(\"Nhập chuỗi a: \")\n",
        "b = input(\"Nhập chuỗi b: \")\n",
        "kq = \"\"\n",
        "i = 0\n",
        "while i < len(a):\n",
        "    if a[i:i+len(b)] == b:\n",
        "        i += len(b)\n",
        "    else:\n",
        "        kq += a[i]\n",
        "        i += 1\n",
        "print(\"Sau khi xóa, chuỗi a là:\", kq)\n"
      ],
      "metadata": {
        "colab": {
          "base_uri": "https://localhost:8080/"
        },
        "id": "s7GZKd5r64Ej",
        "outputId": "34473f76-93ed-466f-9745-0722150bf406"
      },
      "execution_count": 30,
      "outputs": [
        {
          "output_type": "stream",
          "name": "stdout",
          "text": [
            "Nhập chuỗi a: heloo\n",
            "Nhập chuỗi b: he\n",
            "Sau khi xóa, chuỗi a là: loo\n"
          ]
        }
      ]
    }
  ]
}